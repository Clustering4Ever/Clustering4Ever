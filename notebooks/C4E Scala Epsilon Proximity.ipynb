{
 "cells": [
  {
   "cell_type": "code",
   "execution_count": null,
   "metadata": {},
   "outputs": [],
   "source": [
    "%%classpath add mvn\n",
    "org.clustering4ever clustering4ever_2.11 0.9.6"
   ]
  },
  {
   "cell_type": "code",
   "execution_count": null,
   "metadata": {},
   "outputs": [],
   "source": [
    "%%classpath add mvn\n",
    "org.apache.spark spark-core_2.11 2.4.3"
   ]
  },
  {
   "cell_type": "markdown",
   "metadata": {},
   "source": [
    "# [Clustering4Ever](https://github.com/Clustering4Ever/Clustering4Ever) by [LIPN](https://lipn.univ-paris13.fr/) [A3](https://lipn.univ-paris13.fr/accueil/equipe/a3/) team"
   ]
  },
  {
   "cell_type": "markdown",
   "metadata": {},
   "source": [
    "# C4E Scala Epsilon Proximity"
   ]
  },
  {
   "cell_type": "code",
   "execution_count": null,
   "metadata": {},
   "outputs": [],
   "source": [
    "import org.clustering4ever.clustering.epsilonproximity.scala.EpsilonProximityScalar\n",
    "import org.clustering4ever.math.distances.scalar.Euclidean\n",
    "import org.clustering4ever.clusterizables.EasyClusterizable\n",
    "import org.clustering4ever.vectors.ScalarVector\n",
    "import org.clustering4ever.clustering.indices.MultiExternalIndicesLocal\n",
    "import scala.io.Source\n",
    "import scala.collection.mutable\n",
    "import scala.collection.parallel"
   ]
  },
  {
   "cell_type": "code",
   "execution_count": null,
   "metadata": {},
   "outputs": [],
   "source": [
    "%%bash\n",
    "wget -P /tmp/ http://www.clustering4ever.org/Datasets/Aggregation/aggregation.csv\n",
    "wget -P /tmp/ http://www.clustering4ever.org/Datasets/Aggregation/labels"
   ]
  },
  {
   "cell_type": "markdown",
   "metadata": {},
   "source": [
    "### Load data"
   ]
  },
  {
   "cell_type": "code",
   "execution_count": null,
   "metadata": {},
   "outputs": [],
   "source": [
    "val path = \"/tmp/aggregation.csv\"\n",
    "val data = scala.io.Source.fromFile(path).getLines.toSeq.par\n",
    "  .map( x => x.split(\",\").map(_.toDouble)).zipWithIndex\n",
    "  .map{ case (v, id) => EasyClusterizable(id.toLong, ScalarVector(v)) }\n",
    "val labelsPath = \"/tmp/labels\"\n",
    "val labels = scala.io.Source.fromFile(labelsPath).getLines.toSeq.map(_.toInt)"
   ]
  },
  {
   "cell_type": "markdown",
   "metadata": {},
   "source": [
    "## Parameters "
   ]
  },
  {
   "cell_type": "code",
   "execution_count": null,
   "metadata": {},
   "outputs": [],
   "source": [
    "type SeqType = mutable.ArrayBuffer[Double]\n",
    "val metric = Euclidean(false)\n",
    "val eps = \"knn:25\"\n",
    "val eps2 = \"eps:1.5\""
   ]
  },
  {
   "cell_type": "markdown",
   "metadata": {},
   "source": [
    "## Run Epsilon Proximity "
   ]
  },
  {
   "cell_type": "code",
   "execution_count": null,
   "metadata": {},
   "outputs": [],
   "source": [
    "val t1 = System.nanoTime\n",
    "val modelEps = EpsilonProximityScalar(eps, metric).fit(data)\n",
    "val t2 = System.nanoTime\n",
    "(t2 - t1) / 1000000000D"
   ]
  },
  {
   "cell_type": "code",
   "execution_count": null,
   "metadata": {},
   "outputs": [],
   "source": [
    "val clusterizedd = modelEps.obtainInputDataClustering(data)\n",
    "val rawd = clusterizedd.map(_.v.vector.toArray).toArray\n",
    "val labelsPred = clusterizedd.map(_.clusterIDs.last).toArray"
   ]
  },
  {
   "cell_type": "markdown",
   "metadata": {},
   "source": [
    "## Compute NMI with founded class"
   ]
  },
  {
   "cell_type": "code",
   "execution_count": null,
   "metadata": {},
   "outputs": [],
   "source": [
    "val indices = MultiExternalIndicesLocal(labelsPred zip labels)\n",
    "val nmi = indices.nmiSQRT"
   ]
  },
  {
   "cell_type": "code",
   "execution_count": null,
   "metadata": {},
   "outputs": [],
   "source": [
    "val arand = indices.arand"
   ]
  }
 ],
 "metadata": {
  "kernelspec": {
   "display_name": "Scala",
   "language": "scala",
   "name": "scala"
  },
  "language_info": {
   "codemirror_mode": "text/x-scala",
   "file_extension": ".scala",
   "mimetype": "",
   "name": "Scala",
   "nbconverter_exporter": "",
   "version": "2.11.12"
  },
  "toc": {
   "base_numbering": 1,
   "nav_menu": {},
   "number_sections": false,
   "sideBar": false,
   "skip_h1_title": false,
   "title_cell": "Table of Contents",
   "title_sidebar": "Contents",
   "toc_cell": false,
   "toc_position": {},
   "toc_section_display": false,
   "toc_window_display": false
  },
  "varInspector": {
   "cols": {
    "lenName": 16,
    "lenType": 16,
    "lenVar": 40
   },
   "kernels_config": {
    "python": {
     "delete_cmd_postfix": "",
     "delete_cmd_prefix": "del ",
     "library": "var_list.py",
     "varRefreshCmd": "print(var_dic_list())"
    },
    "r": {
     "delete_cmd_postfix": ") ",
     "delete_cmd_prefix": "rm(",
     "library": "var_list.r",
     "varRefreshCmd": "cat(var_dic_list()) "
    }
   },
   "types_to_exclude": [
    "module",
    "function",
    "builtin_function_or_method",
    "instance",
    "_Feature"
   ],
   "window_display": false
  }
 },
 "nbformat": 4,
 "nbformat_minor": 2
}
