{
  "metadata" : {
    "id" : "4bdaea36-4e2f-4fdd-a4c0-b6ce00936f4a",
    "name" : "RecursiveBiclusters",
    "user_save_timestamp" : "1970-01-01T00:00:00.000Z",
    "auto_save_timestamp" : "1970-01-01T00:00:00.000Z",
    "language_info" : {
      "name" : "scala",
      "file_extension" : "scala",
      "codemirror_mode" : "text/x-scala"
    },
    "trusted" : true,
    "sparkNotebook" : null,
    "customLocalRepo" : null,
    "customRepos" : [ "clustering4ever % default % http://dl.bintray.com/clustering4ever/C4E % maven" ],
    "customDeps" : [ "org.clustering4ever % clustering4ever_2.11 % dina-SNAPSHOT" ],
    "customImports" : null,
    "customArgs" : null,
    "customSparkConf" : null,
    "customVars" : null
  },
  "cells" : [ {
    "metadata" : {
      "trusted" : true,
      "input_collapsed" : false,
      "collapsed" : false,
      "id" : "9E9D3ED4455B43688A6F45CF66A999CE"
    },
    "cell_type" : "code",
    "source" : [ "import org.clustering4ever.scala.clustering.tensor.RecursiveBiclusters" ],
    "outputs" : [ {
      "name" : "stdout",
      "output_type" : "stream",
      "text" : "import org.clustering4ever.scala.clustering.tensor.RecursiveBiclusters\n"
    }, {
      "metadata" : { },
      "data" : {
        "text/html" : ""
      },
      "output_type" : "execute_result",
      "execution_count" : 1,
      "time" : "Took: 1.004s, at 2019-01-01 18:20"
    } ]
  }, {
    "metadata" : {
      "id" : "4A68F53D429F40EB8DFD7E09B2D10E76"
    },
    "cell_type" : "markdown",
    "source" : "### Preparation de données"
  }, {
    "metadata" : {
      "trusted" : true,
      "input_collapsed" : false,
      "collapsed" : false,
      "id" : "EF04155322834940A1BCAD2371DC22F6"
    },
    "cell_type" : "code",
    "source" : [ "val path = \"/home/faneva/spark-notebook/notebooks/newdata.csv\"\n", "//import data\n", "val data = scala.io.Source.fromFile(path).getLines.map(_.split(\",\").map(_.toDouble)).toArray" ],
    "outputs" : [ {
      "name" : "stdout",
      "output_type" : "stream",
      "text" : "path: String = /home/faneva/spark-notebook/notebooks/newdata.csv\ndata: Array[Array[Double]] = Array(Array(0.44376, 0.45581, -0.27201, -1.2175, -0.13206, 1.1429, 1.0431, -0.42526, -0.35189, 0.72685, -0.20169, -0.94069, 0.71831, 0.80356, 0.83397, -1.0675, 0.59056, -0.57458, 1.81, -0.24543, -0.04262, 0.1169, 0.67389, 0.27266, -1.2614, 0.26311, 0.26311, 0.26311, 0.26311, 0.26311, 0.26311, 0.26311, 0.26311, 0.26311, 0.26311, 0.26311, 0.26311, 0.26311, 0.26311, 0.26311, 0.26311, 0.26311, 0.26311, 0.26311, 0.26311, 0.26311, 0.26311, 0.26311, 0.26311, 0.26311, -2.3792, 1.3372, 1.1243, -0.3128, -0.29058, -1.9041, -3.6275, 1.1212, 0.42932, -0.42782, -0.92888, 0.53972, -1.948, 0.41672, -0.80337, 0.57173, -1.5371, -0.066759, -0.92708, -0.38038, 0.17002, -0.50291, 0.69454, -0.18967, 0.4519, 1.3751, ..."
    }, {
      "metadata" : { },
      "data" : {
        "text/html" : ""
      },
      "output_type" : "execute_result",
      "execution_count" : 2,
      "time" : "Took: 1.238s, at 2019-01-01 18:22"
    } ]
  }, {
    "metadata" : {
      "id" : "0B2A73C8BA314CC7ADB844B84CAE7C04"
    },
    "cell_type" : "markdown",
    "source" : "### structure of tensor"
  }, {
    "metadata" : {
      "trusted" : true,
      "input_collapsed" : false,
      "collapsed" : false,
      "id" : "344A8A3D9B834057846561E173F8C828"
    },
    "cell_type" : "code",
    "source" : [ "import org.clustering4ever.scala.clustering.tensor.TensorCommons" ],
    "outputs" : [ {
      "name" : "stdout",
      "output_type" : "stream",
      "text" : "import org.clustering4ever.scala.clustering.tensor.TensorCommons\n"
    }, {
      "metadata" : { },
      "data" : {
        "text/html" : ""
      },
      "output_type" : "execute_result",
      "execution_count" : 3,
      "time" : "Took: 0.732s, at 2019-01-01 18:22"
    } ]
  }, {
    "metadata" : {
      "trusted" : true,
      "input_collapsed" : false,
      "collapsed" : false,
      "id" : "987DACCB3F6549D5B9DF2266A650908F"
    },
    "cell_type" : "code",
    "source" : [ "val tensordata = TensorCommons.dataToTensor(data, 100, 100, 30)" ],
    "outputs" : [ {
      "name" : "stdout",
      "output_type" : "stream",
      "text" : "tensordata: scala.collection.mutable.ArrayBuffer[breeze.linalg.DenseMatrix[Double]] =\nArrayBuffer(0.44376    0.45581   -0.27201   -1.2175    -0.13206   ... (100 total)\n1.8532     1.2114    2.5707     -1.4707    0.42612    ...\n-0.070835  -0.22544  0.10025    0.55759    0.024698   ...\n1.0982     -0.72445  0.4048     1.2692     -1.7025    ...\n-1.0185    1.3333    -1.4784    0.536      -0.74106   ...\n-1.8075    1.0306    -0.23754   -1.3119    -0.33828   ...\n-2.0399    0.74463   -0.55204   0.2184     1.213      ...\n-1.3665    0.12291   0.30767    -0.97099   -0.13448   ...\n1.0168     -1.5134   -1.1935    -1.9455    -0.15043   ...\n0.95304    -0.37479  0.33049    -1.6513    1.5258     ...\n0.86202    1.6153    -0.13859   0.97543    0.14354    ...\n1.0919     0.43379   -0.69365   1.2239     0.7759..."
    }, {
      "metadata" : { },
      "data" : {
        "text/html" : ""
      },
      "output_type" : "execute_result",
      "execution_count" : 4,
      "time" : "Took: 1.331s, at 2019-01-01 18:22"
    } ]
  }, {
    "metadata" : {
      "id" : "C22E870625704DFE815C87ED056CDBF2"
    },
    "cell_type" : "markdown",
    "source" : "### Bicluster"
  }, {
    "metadata" : {
      "trusted" : true,
      "input_collapsed" : false,
      "collapsed" : false,
      "id" : "FDA9ED4403D744EFAB5AF40EFE178696"
    },
    "cell_type" : "code",
    "source" : [ "val result = RecursiveBiclusters.train(Array(25,25),Array(25,25),tensordata)" ],
    "outputs" : [ {
      "name" : "stdout",
      "output_type" : "stream",
      "text" : "result: scala.collection.mutable.ListBuffer[Array[Array[Int]]] = ListBuffer(Array(Array(21, 17, 13, 0, 1, 6, 9, 18, 3, 11, 15, 4, 24, 7, 5, 22, 16, 23, 10, 20, 12, 2, 19, 14, 8), Array(47, 41, 29, 28, 27, 44, 45, 26, 35, 37, 42, 32, 34, 30, 48, 40, 46, 43, 25, 33, 31, 38, 36, 39, 49)), Array(Array(69, 91, 29, 43, 61, 26, 30, 57, 25, 33, 36, 68, 53, 92, 52, 73, 97, 28, 78, 31, 63, 82, 95, 42, 35), Array(99, 87, 15, 51, 86, 77, 10, 63, 67, 24, 0, 16, 76, 85, 65, 9, 80, 18, 5, 21, 72, 27, 92, 91, 84)))\n"
    }, {
      "metadata" : { },
      "data" : {
        "text/html" : ""
      },
      "output_type" : "execute_result",
      "execution_count" : 5,
      "time" : "Took: 2.235s, at 2019-01-01 18:22"
    } ]
  }, {
    "metadata" : {
      "trusted" : true,
      "input_collapsed" : false,
      "collapsed" : false,
      "id" : "61107C734EDD461C8C0061A77B908EF0"
    },
    "cell_type" : "code",
    "source" : [ "import java.io._\n", "val pw = new PrintWriter(new File(\"/home/faneva/spark-notebook/notebooks/result/Recursive.txt\" ))\n", " for (i <- 0 until result.length){\n", "    pw.write(\"\\n\\n Bicluster number \"+ i +\" :\")\n", "    pw.write(\"\\n rows \\n\" + result(i)(0).mkString(\", \")+ \"\\n\\n columns\\n\"+ result(i)(1).mkString(\", \"))\n", "  }\n", "pw.close" ],
    "outputs" : [ {
      "name" : "stdout",
      "output_type" : "stream",
      "text" : "import java.io._\npw: java.io.PrintWriter = java.io.PrintWriter@f3f3fb\n"
    }, {
      "metadata" : { },
      "data" : {
        "text/html" : ""
      },
      "output_type" : "execute_result",
      "execution_count" : 8,
      "time" : "Took: 1.004s, at 2019-01-01 18:29"
    } ]
  } ],
  "nbformat" : 4
}